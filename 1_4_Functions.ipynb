{
 "cells": [
  {
   "cell_type": "markdown",
   "metadata": {},
   "source": [
    "___\n",
    "<a href = 'https://www.tradingvalley.com/en/'> \n",
    "    <img src = 'fig/TV_logo.jpg' width = '50%'/>\n",
    "    </a>\n",
    "<h6 style = \"text-align:right\"> Python and Quantitative Trading @ NTHU 107 </h6>\n",
    "\n",
    "___"
   ]
  },
  {
   "cell_type": "markdown",
   "metadata": {},
   "source": [
    "<h1 style = \"text-align:center\"> Python Introduction </h1>"
   ]
  },
  {
   "cell_type": "markdown",
   "metadata": {},
   "source": [
    "## 1-4. Functions\n",
    "\n",
    "There a lot of defined functions in python (in modules) for us to use, <br>\n",
    "we can also define some functions we'd like to use repeatedly. <br>\n",
    "<br>\n",
    "Note that functions are base for a module."
   ]
  },
  {
   "cell_type": "markdown",
   "metadata": {},
   "source": [
    "### define\n",
    "\n",
    "```python\n",
    "def function_name(input_1, input_2, ...):\n",
    "    do something\n",
    "    return output\n",
    "function_name(a, b)\n",
    "```"
   ]
  },
  {
   "cell_type": "code",
   "execution_count": 1,
   "metadata": {},
   "outputs": [],
   "source": [
    "def my_add_func(a, b):\n",
    "    c = a + b\n",
    "    return c"
   ]
  },
  {
   "cell_type": "code",
   "execution_count": 2,
   "metadata": {},
   "outputs": [
    {
     "data": {
      "text/plain": [
       "8"
      ]
     },
     "execution_count": 2,
     "metadata": {},
     "output_type": "execute_result"
    }
   ],
   "source": [
    "my_add_func(3, 5)"
   ]
  },
  {
   "cell_type": "code",
   "execution_count": 3,
   "metadata": {},
   "outputs": [
    {
     "data": {
      "text/plain": [
       "8"
      ]
     },
     "execution_count": 3,
     "metadata": {},
     "output_type": "execute_result"
    }
   ],
   "source": [
    "result = my_add_func(3, 5)\n",
    "result"
   ]
  },
  {
   "cell_type": "code",
   "execution_count": 4,
   "metadata": {},
   "outputs": [],
   "source": [
    "def my_calculator(a, b):\n",
    "    c = a + b\n",
    "    d = a - b\n",
    "    return c, d"
   ]
  },
  {
   "cell_type": "code",
   "execution_count": 5,
   "metadata": {},
   "outputs": [
    {
     "data": {
      "text/plain": [
       "(8, -2)"
      ]
     },
     "execution_count": 5,
     "metadata": {},
     "output_type": "execute_result"
    }
   ],
   "source": [
    "my_calculator(3, 5)"
   ]
  },
  {
   "cell_type": "code",
   "execution_count": 6,
   "metadata": {},
   "outputs": [
    {
     "name": "stdout",
     "output_type": "stream",
     "text": [
      "type of result：<class 'tuple'>.\n"
     ]
    },
    {
     "data": {
      "text/plain": [
       "(8, -2)"
      ]
     },
     "metadata": {},
     "output_type": "display_data"
    }
   ],
   "source": [
    "result = my_calculator(3, 5)\n",
    "print(\"type of result：%s.\" %type(result))\n",
    "\n",
    "display(result)"
   ]
  },
  {
   "cell_type": "code",
   "execution_count": 7,
   "metadata": {},
   "outputs": [
    {
     "name": "stdout",
     "output_type": "stream",
     "text": [
      "type of result_1：<class 'int'>.\n",
      "type of result_2：<class 'int'>.\n"
     ]
    },
    {
     "data": {
      "text/plain": [
       "8"
      ]
     },
     "metadata": {},
     "output_type": "display_data"
    },
    {
     "data": {
      "text/plain": [
       "-2"
      ]
     },
     "metadata": {},
     "output_type": "display_data"
    }
   ],
   "source": [
    "result_1, result_2 = my_calculator(3, 5)\n",
    "print(\"type of result_1：%s.\" %type(result_1))\n",
    "print(\"type of result_2：%s.\" %type(result_2))\n",
    "\n",
    "display(result_1)\n",
    "display(result_2)"
   ]
  },
  {
   "cell_type": "markdown",
   "metadata": {},
   "source": [
    "### `lambda`\n",
    "\n",
    "如果 function 較簡單的時候，（或是在某些使用方法需要以 function 為參數時）， <br>\n",
    "可以用 lambda 的方式來給定一個 function。\n",
    "\n",
    "```python\n",
    "function_name = lambda (x, y): so_something_on_x_and_y\n",
    "function_name(a, b)\n",
    "```"
   ]
  },
  {
   "cell_type": "code",
   "execution_count": 8,
   "metadata": {},
   "outputs": [],
   "source": [
    "A = lambda x, y: x - y "
   ]
  },
  {
   "cell_type": "code",
   "execution_count": 9,
   "metadata": {},
   "outputs": [
    {
     "data": {
      "text/plain": [
       "-1"
      ]
     },
     "execution_count": 9,
     "metadata": {},
     "output_type": "execute_result"
    }
   ],
   "source": [
    "A(1, 2)"
   ]
  },
  {
   "cell_type": "markdown",
   "metadata": {},
   "source": [
    "> 在程式的開發中，持續增加程式功能後，程式碼會變得又臭又長，<br>\n",
    "> 這時候就需要 function 來輔助了！它可以幫助我們將程式碼依據功能或順序做區分，<br>\n",
    "> 讓我們在使用、修改或是閱讀程式碼時，不會花太久的時間找到需要的片段。"
   ]
  },
  {
   "cell_type": "markdown",
   "metadata": {},
   "source": [
    "### Practice\n",
    "- leetcode - two sums https://leetcode.com/problems/two-sum/description/\n",
    "\n",
    "<img src = 'fig/leetcode_two_sum.png' width = '85%'/>"
   ]
  },
  {
   "cell_type": "markdown",
   "metadata": {},
   "source": [
    "```python\n",
    "class Solution:\n",
    "    def twoSum(self, nums, target):\n",
    "        \"\"\"\n",
    "        :type nums: List[int]\n",
    "        :type target: int\n",
    "        :rtype: List[int]\n",
    "        \"\"\"\n",
    "        [what we want to do]\n",
    "```\n",
    "\n",
    "##### some tools:\n",
    "```python\n",
    "a_list = ['a', 'b', 'c', 'd', 'e']\n",
    "```\n",
    "- 選取 list 中其中一個元素之後的元素\n",
    "```python\n",
    "a_list[3:]\n",
    "```\n",
    "- 計算某個元素在 list 中第幾個（從 0 開始）\n",
    "```python\n",
    "a_list.index('c')\n",
    "```\n",
    "- 計算一個 list 的長度\n",
    "```python\n",
    "len(a_list)\n",
    "```\n",
    "- 查看程式執行時間\n",
    "```python\n",
    "import time\n",
    "start_time = time.time()\n",
    "end_time = time.time()\n",
    "print(end_time - start_time)\n",
    "```"
   ]
  },
  {
   "cell_type": "code",
   "execution_count": 10,
   "metadata": {},
   "outputs": [
    {
     "name": "stdout",
     "output_type": "stream",
     "text": [
      "a_list: ['a', 'b', 'c', 'd', 'e']\n",
      "a_list[3:]: ['d', 'e']\n",
      "a_list.index(c): 2\n",
      "len(a_list): 5\n",
      "execution time: 0.0008 seconds\n"
     ]
    }
   ],
   "source": [
    "import time\n",
    "start_time = time.time()\n",
    "\n",
    "a_list = ['a', 'b', 'c', 'd', 'e']\n",
    "print('a_list: %s' %a_list)\n",
    "print('a_list[3:]: %s' %a_list[3:])\n",
    "print('a_list.index(c): %d' %a_list.index('c'))\n",
    "print('len(a_list): %d' %len(a_list))\n",
    "\n",
    "end_time = time.time()\n",
    "print('execution time: %.4f seconds' %(end_time - start_time))"
   ]
  },
  {
   "cell_type": "markdown",
   "metadata": {},
   "source": [
    "[_]( http://localhost:8888/notebooks/Courses/NTHU/0_Overview.ipynb) <br>\n",
    "[_]( http://localhost:8888/notebooks/Courses/NTHU/1_4_1_Leetcode_two_sum.ipynb)"
   ]
  }
 ],
 "metadata": {
  "kernelspec": {
   "display_name": "Python 3",
   "language": "python",
   "name": "python3"
  },
  "language_info": {
   "codemirror_mode": {
    "name": "ipython",
    "version": 3
   },
   "file_extension": ".py",
   "mimetype": "text/x-python",
   "name": "python",
   "nbconvert_exporter": "python",
   "pygments_lexer": "ipython3",
   "version": "3.6.5"
  }
 },
 "nbformat": 4,
 "nbformat_minor": 2
}
