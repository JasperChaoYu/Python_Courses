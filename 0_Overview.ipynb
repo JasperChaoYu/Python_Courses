{
 "cells": [
  {
   "cell_type": "markdown",
   "metadata": {},
   "source": [
    "___\n",
    "<a href = 'https://www.tradingvalley.com/en/'> \n",
    "    <img src = 'fig/TV_logo.jpg' width = '50%'/>\n",
    "    </a>\n",
    "<h6 style = \"text-align:right\"> Python and Quantitative Trading @ NTHU 107 </h6>\n",
    "\n",
    "___"
   ]
  },
  {
   "cell_type": "markdown",
   "metadata": {},
   "source": [
    "<h1 style = \"text-align:center\"> Overview </h1>"
   ]
  },
  {
   "cell_type": "markdown",
   "metadata": {},
   "source": [
    "Python GUI Example: http://localhost:8888/notebooks/Courses/NTHU/calculator.ipynb"
   ]
  },
  {
   "cell_type": "code",
   "execution_count": 1,
   "metadata": {},
   "outputs": [],
   "source": [
    "#!python calculator.py"
   ]
  },
  {
   "cell_type": "markdown",
   "metadata": {},
   "source": [
    "## 0. Python Overview"
   ]
  },
  {
   "cell_type": "markdown",
   "metadata": {},
   "source": [
    "> <h3> (1) What can Python do? </h3>\n",
    ">\n",
    ">>    - Scientific and Numeric\n",
    ">>    - Education\n",
    ">>    - GUIs\n",
    ">>    - Software Development\n",
    ">>    - Web and Internet Development\n",
    ">>    - Business Applications\n",
    ">>"
   ]
  },
  {
   "cell_type": "markdown",
   "metadata": {},
   "source": [
    "> <h3> (2) Websites / Services by Python </h3>\n",
    ">\n",
    ">>    - Google\n",
    ">>    - Dropbox\n",
    ">>    - Instagram\n",
    ">>    - Youtube\n",
    ">>    - NASA\n",
    ">>    - `TradingValley`\n",
    ">>"
   ]
  },
  {
   "cell_type": "markdown",
   "metadata": {},
   "source": [
    "> <h3> (3) Basic syntax of Python </h3>\n",
    ">\n",
    ">>    - Comments\n",
    ">>    - Multi lines\n",
    ">>    - Indentation\n",
    ">>    - variables\n",
    ">>"
   ]
  },
  {
   "cell_type": "markdown",
   "metadata": {},
   "source": [
    "##### comments\n",
    "\n",
    "We usually use `#` before a short  comment. <br>\n",
    "If we'd like to display a long sentence, we can put it between two `'''`."
   ]
  },
  {
   "cell_type": "code",
   "execution_count": 1,
   "metadata": {},
   "outputs": [
    {
     "name": "stdout",
     "output_type": "stream",
     "text": [
      "This is Jasper.\n"
     ]
    }
   ],
   "source": [
    "print('This is Jasper.')"
   ]
  },
  {
   "cell_type": "code",
   "execution_count": 2,
   "metadata": {},
   "outputs": [
    {
     "name": "stdout",
     "output_type": "stream",
     "text": [
      "How are you?\n",
      "I am fine.\n"
     ]
    }
   ],
   "source": [
    "print('How are you?')\n",
    "# Fine\n",
    "print('I am fine.')"
   ]
  },
  {
   "cell_type": "code",
   "execution_count": 3,
   "metadata": {},
   "outputs": [
    {
     "name": "stdout",
     "output_type": "stream",
     "text": [
      "end\n"
     ]
    }
   ],
   "source": [
    "'''\n",
    "This is a long comment, containing a lot of words, but without any key points,\n",
    "hoping you can feel boring after this sentence~\n",
    "'''\n",
    "print('end')"
   ]
  },
  {
   "cell_type": "markdown",
   "metadata": {},
   "source": [
    "##### multi lines\n",
    "\n",
    "It's better for us to add `\\` after each line when typing a multi line."
   ]
  },
  {
   "cell_type": "code",
   "execution_count": 4,
   "metadata": {},
   "outputs": [
    {
     "ename": "SyntaxError",
     "evalue": "invalid syntax (<ipython-input-4-7bc2c7364fad>, line 1)",
     "output_type": "error",
     "traceback": [
      "\u001b[0;36m  File \u001b[0;32m\"<ipython-input-4-7bc2c7364fad>\"\u001b[0;36m, line \u001b[0;32m1\u001b[0m\n\u001b[0;31m    a = 1 + 2 + 3 + 4 + 5 +\u001b[0m\n\u001b[0m                            ^\u001b[0m\n\u001b[0;31mSyntaxError\u001b[0m\u001b[0;31m:\u001b[0m invalid syntax\n"
     ]
    }
   ],
   "source": [
    "a = 1 + 2 + 3 + 4 + 5 + \n",
    "6 + 7 + 8 + 9 + 10"
   ]
  },
  {
   "cell_type": "code",
   "execution_count": 5,
   "metadata": {},
   "outputs": [
    {
     "data": {
      "text/plain": [
       "40"
      ]
     },
     "execution_count": 5,
     "metadata": {},
     "output_type": "execute_result"
    }
   ],
   "source": [
    "a = 1 + 2 + 3 + 4 + 5\n",
    "+ 6 + 7 + 8 + 9 + 10"
   ]
  },
  {
   "cell_type": "code",
   "execution_count": 6,
   "metadata": {},
   "outputs": [
    {
     "name": "stdout",
     "output_type": "stream",
     "text": [
      "a = 55\n"
     ]
    }
   ],
   "source": [
    "a = 1 + 2 + 3 + 4 + \\\n",
    "5 + 6 + 7 + 8 + 9 + 10\n",
    "\n",
    "print('a = %d' %a)"
   ]
  },
  {
   "cell_type": "code",
   "execution_count": 7,
   "metadata": {},
   "outputs": [
    {
     "name": "stdout",
     "output_type": "stream",
     "text": [
      "a = 55\n"
     ]
    }
   ],
   "source": [
    "print('a = %d'\n",
    "      %a)"
   ]
  },
  {
   "cell_type": "markdown",
   "metadata": {},
   "source": [
    "##### Indentation（縮排）\n",
    "\n",
    "Unlike some programming languages we know (such as C, Matlab, R), <br>\n",
    "python do not use `{}` to separate the code blocks, but use the `indentation` to express different code blocks.\n"
   ]
  },
  {
   "cell_type": "code",
   "execution_count": 8,
   "metadata": {},
   "outputs": [
    {
     "name": "stdout",
     "output_type": "stream",
     "text": [
      "1\n",
      "2\n",
      "3\n"
     ]
    }
   ],
   "source": [
    "for i in [1, 2, 3]:\n",
    "    print(i)"
   ]
  },
  {
   "cell_type": "code",
   "execution_count": 9,
   "metadata": {},
   "outputs": [
    {
     "ename": "IndentationError",
     "evalue": "expected an indented block (<ipython-input-9-3e96090b8527>, line 2)",
     "output_type": "error",
     "traceback": [
      "\u001b[0;36m  File \u001b[0;32m\"<ipython-input-9-3e96090b8527>\"\u001b[0;36m, line \u001b[0;32m2\u001b[0m\n\u001b[0;31m    print(i)\u001b[0m\n\u001b[0m        ^\u001b[0m\n\u001b[0;31mIndentationError\u001b[0m\u001b[0;31m:\u001b[0m expected an indented block\n"
     ]
    }
   ],
   "source": [
    "for i in [1, 2, 3]:\n",
    "print(i)"
   ]
  },
  {
   "cell_type": "code",
   "execution_count": 10,
   "metadata": {},
   "outputs": [
    {
     "ename": "IndentationError",
     "evalue": "unexpected indent (<ipython-input-10-40b64357d307>, line 3)",
     "output_type": "error",
     "traceback": [
      "\u001b[0;36m  File \u001b[0;32m\"<ipython-input-10-40b64357d307>\"\u001b[0;36m, line \u001b[0;32m3\u001b[0m\n\u001b[0;31m    print(i)\u001b[0m\n\u001b[0m    ^\u001b[0m\n\u001b[0;31mIndentationError\u001b[0m\u001b[0;31m:\u001b[0m unexpected indent\n"
     ]
    }
   ],
   "source": [
    "for i in [1, 2, 3]:\n",
    " print(i, i)\n",
    "    print(i)"
   ]
  },
  {
   "cell_type": "code",
   "execution_count": 11,
   "metadata": {},
   "outputs": [
    {
     "ename": "IndentationError",
     "evalue": "unindent does not match any outer indentation level (<ipython-input-11-29b2f5f13c5e>, line 3)",
     "output_type": "error",
     "traceback": [
      "\u001b[0;36m  File \u001b[0;32m\"<ipython-input-11-29b2f5f13c5e>\"\u001b[0;36m, line \u001b[0;32m3\u001b[0m\n\u001b[0;31m    print(i)\u001b[0m\n\u001b[0m            ^\u001b[0m\n\u001b[0;31mIndentationError\u001b[0m\u001b[0;31m:\u001b[0m unindent does not match any outer indentation level\n"
     ]
    }
   ],
   "source": [
    "for i in [1, 2, 3]:\n",
    "    print(i, i)\n",
    "  print(i)"
   ]
  },
  {
   "cell_type": "code",
   "execution_count": 12,
   "metadata": {},
   "outputs": [
    {
     "name": "stdout",
     "output_type": "stream",
     "text": [
      "1 1\n",
      "1\n",
      "2 2\n",
      "2\n",
      "3 3\n",
      "3\n"
     ]
    }
   ],
   "source": [
    "for i in [1, 2, 3]:\n",
    " print(i, i)\n",
    " print(i)"
   ]
  },
  {
   "cell_type": "markdown",
   "metadata": {},
   "source": [
    "##### Variables\n",
    "\n",
    "It's very flexible for us to neam our variables in python, but with some exceptions. <br>\n",
    "- We cannot name a variable started with a number（1_var）<br>\n",
    "(It's is ok for us to name a variable started with `_`)\n",
    "- We cannot give variable a  name the same as the `keywords`（see (3)） <br>\n",
    "(It's not difficult to see if it is a keyword in jupyter, the word will become green if you type in a keyword.)"
   ]
  },
  {
   "cell_type": "code",
   "execution_count": 13,
   "metadata": {},
   "outputs": [
    {
     "ename": "SyntaxError",
     "evalue": "invalid token (<ipython-input-13-1f11452c5053>, line 1)",
     "output_type": "error",
     "traceback": [
      "\u001b[0;36m  File \u001b[0;32m\"<ipython-input-13-1f11452c5053>\"\u001b[0;36m, line \u001b[0;32m1\u001b[0m\n\u001b[0;31m    1_var = 1\u001b[0m\n\u001b[0m     ^\u001b[0m\n\u001b[0;31mSyntaxError\u001b[0m\u001b[0;31m:\u001b[0m invalid token\n"
     ]
    }
   ],
   "source": [
    "1_var = 1"
   ]
  },
  {
   "cell_type": "code",
   "execution_count": 14,
   "metadata": {},
   "outputs": [
    {
     "ename": "SyntaxError",
     "evalue": "invalid syntax (<ipython-input-14-a3fd417c5b1e>, line 1)",
     "output_type": "error",
     "traceback": [
      "\u001b[0;36m  File \u001b[0;32m\"<ipython-input-14-a3fd417c5b1e>\"\u001b[0;36m, line \u001b[0;32m1\u001b[0m\n\u001b[0;31m    and = 1\u001b[0m\n\u001b[0m      ^\u001b[0m\n\u001b[0;31mSyntaxError\u001b[0m\u001b[0;31m:\u001b[0m invalid syntax\n"
     ]
    }
   ],
   "source": [
    "and = 1"
   ]
  },
  {
   "cell_type": "code",
   "execution_count": 15,
   "metadata": {},
   "outputs": [
    {
     "name": "stdout",
     "output_type": "stream",
     "text": [
      "_1_var = 1\n"
     ]
    }
   ],
   "source": [
    "_1_var = 1\n",
    "\n",
    "print('_1_var = %d' %_1_var)"
   ]
  },
  {
   "cell_type": "markdown",
   "metadata": {},
   "source": [
    "> <h3> (4) Python Keywords </h3>\n",
    ">\n",
    ">>    Some words are reserved in python for keywords, they cannot be the name of variables. <br>\n",
    ">>    We are able to see the keyword list:\n",
    "```python\n",
    "import keyword\n",
    "print(keyword.kwlist)\n",
    "```"
   ]
  },
  {
   "cell_type": "code",
   "execution_count": 16,
   "metadata": {},
   "outputs": [
    {
     "name": "stdout",
     "output_type": "stream",
     "text": [
      "['False', 'None', 'True', 'and', 'as', 'assert', 'break', 'class', 'continue', 'def', 'del', 'elif', 'else', 'except', 'finally', 'for', 'from', 'global', 'if', 'import', 'in', 'is', 'lambda', 'nonlocal', 'not', 'or', 'pass', 'raise', 'return', 'try', 'while', 'with', 'yield']\n"
     ]
    }
   ],
   "source": [
    "import keyword\n",
    "print(keyword.kwlist)"
   ]
  },
  {
   "cell_type": "markdown",
   "metadata": {},
   "source": [
    "> <h3> (5) Python References </h3>\n",
    ">\n",
    ">>    https://www.tutorialspoint.com/python/python_basic_syntax.htm <br>\n",
    ">>    http://www.mis.nkfust.edu.tw/newMis/files/service/2016_12_14_PYTHON基礎教學.pdf <br>\n",
    ">>    http://blog.hhjh.tn.edu.tw/biosomeday/?p=582 <br>\n",
    ">>    http://kaiching.org/pydoing/python.html <br>\n",
    ">>    http://mropengate.blogspot.com/2015/08/python-python.html <br>\n",
    ">>    https://data-flair.training/blogs/python-syntax-semantics/ <br>\n",
    ">>\n",
    ">>    https://leetcode.com/problemset/all/ <br>\n",
    ">>    https://www.kaggle.com <br>\n",
    ">>    https://www.hackerrank.com/domains/python"
   ]
  },
  {
   "cell_type": "markdown",
   "metadata": {},
   "source": [
    "#### Before we start......\n",
    "\n",
    "- toolbox for solving problems\n",
    "- skill to analysis and optimizing efficiency（time and space）of algorithms\n",
    "- there are lots of methods and processes to solve a problem when programming\n",
    "- to see and learn the code from others\n",
    "- required to consider more situations： special, edge, empty, normal\n",
    "- think before start： know the requirements, (simply draw the programming steps)"
   ]
  },
  {
   "cell_type": "markdown",
   "metadata": {},
   "source": [
    "## 1. Python Introduction"
   ]
  },
  {
   "cell_type": "markdown",
   "metadata": {},
   "source": [
    "> <h3> (1) Data types（Data Strucures）[_ ]( http://localhost:8888/notebooks/Courses/NTHU/1_1_Data_Structures.ipynb) </h3>\n",
    ">\n",
    ">>    - Numbers\n",
    ">>    - Strings\n",
    ">>    - Booleans\n",
    ">>    - Lists\n",
    ">>    - Tuple\n",
    ">>    - Dictionary\n",
    ">>    - Dataframe\n",
    ">>"
   ]
  },
  {
   "cell_type": "markdown",
   "metadata": {},
   "source": [
    "> <h3> (2) Operators [_ ]( http://localhost:8888/notebooks/Courses/NTHU/1_2_Operators.ipynb)</h3>\n",
    ">    \n",
    ">>    - Numerical\n",
    ">>    - Comparison and Logical\n",
    ">>    - Strings\n",
    ">>    - Lists"
   ]
  },
  {
   "cell_type": "markdown",
   "metadata": {},
   "source": [
    "> <h3> (3) Conditions and Loops [_ ]( http://localhost:8888/notebooks/Courses/NTHU/1_3_Conditions_and_Loops.ipynb)</h3>\n",
    ">\n",
    ">>    - if, elif, else\n",
    ">>    - for\n",
    ">>    - while\n",
    ">>    - try, excep"
   ]
  },
  {
   "cell_type": "markdown",
   "metadata": {},
   "source": [
    "> <h3> (4) Functions [_ ]( http://localhost:8888/notebooks/Courses/NTHU/1_4_Functions.ipynb)</h3>\n",
    ">    \n",
    ">>    - define\n",
    ">>    - lambda\n",
    ">>"
   ]
  },
  {
   "cell_type": "markdown",
   "metadata": {},
   "source": [
    "> <h3> (5) Methods [_ ]( http://localhost:8888/notebooks/Courses/NTHU/1_5_Methods.ipynb)</h3>\n",
    ">    \n",
    ">>    - list\n",
    ">>    - string\n",
    ">>    "
   ]
  },
  {
   "cell_type": "markdown",
   "metadata": {},
   "source": [
    "___\n",
    "\n",
    "___"
   ]
  },
  {
   "cell_type": "markdown",
   "metadata": {},
   "source": [
    "## 2. Python modules\n"
   ]
  },
  {
   "cell_type": "markdown",
   "metadata": {},
   "source": [
    "> <h3> ** (1) Import Modules ** </h3>\n",
    ">\n",
    ">>\n",
    ">>"
   ]
  },
  {
   "cell_type": "markdown",
   "metadata": {},
   "source": [
    "> <h3> ** (2) Computation ** </h3>\n",
    ">\n",
    ">> `numpy` <br> <br>\n",
    ">> `scipy`\n",
    ">>"
   ]
  },
  {
   "cell_type": "markdown",
   "metadata": {},
   "source": [
    "> <h3> ** (3) Data Analysis ** </h3>\n",
    ">\n",
    ">> `pandas`\n",
    ">>"
   ]
  },
  {
   "cell_type": "markdown",
   "metadata": {},
   "source": [
    "> <h3> ** (4) Dates ** </h3>\n",
    ">\n",
    ">> `datetime`\n",
    ">>"
   ]
  },
  {
   "cell_type": "markdown",
   "metadata": {},
   "source": [
    "> <h3> ** (5) Figures ** </h3>\n",
    ">\n",
    ">> `matplotlib` <br> <br>\n",
    ">> `seaborn` <br> <br>\n",
    ">> `plotly` and `cufflinks` <br> <br>\n",
    ">>"
   ]
  },
  {
   "cell_type": "markdown",
   "metadata": {},
   "source": [
    "> <h3> ** (5) Others ** </h3>\n",
    ">\n",
    ">> - Machine Learning: `sklearn`, `keras` <br> <br>\n",
    ">>"
   ]
  },
  {
   "cell_type": "markdown",
   "metadata": {},
   "source": [
    "___\n",
    "\n",
    "___"
   ]
  }
 ],
 "metadata": {
  "kernelspec": {
   "display_name": "Python 3",
   "language": "python",
   "name": "python3"
  },
  "language_info": {
   "codemirror_mode": {
    "name": "ipython",
    "version": 3
   },
   "file_extension": ".py",
   "mimetype": "text/x-python",
   "name": "python",
   "nbconvert_exporter": "python",
   "pygments_lexer": "ipython3",
   "version": "3.6.5"
  }
 },
 "nbformat": 4,
 "nbformat_minor": 2
}
