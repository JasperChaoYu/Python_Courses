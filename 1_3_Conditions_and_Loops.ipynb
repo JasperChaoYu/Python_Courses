{
 "cells": [
  {
   "cell_type": "markdown",
   "metadata": {},
   "source": [
    "___\n",
    "<a href = 'https://www.tradingvalley.com/en/'> \n",
    "    <img src = 'fig/TV_logo.jpg' width = '50%'/>\n",
    "    </a>\n",
    "<h6 style = \"text-align:right\"> Python and Quantitative Trading @ NTHU 107 </h6>\n",
    "\n",
    "___"
   ]
  },
  {
   "cell_type": "markdown",
   "metadata": {},
   "source": [
    "<h1 style = \"text-align:center\"> Python Introduction </h1>"
   ]
  },
  {
   "cell_type": "markdown",
   "metadata": {},
   "source": [
    "## 1-3. Conditions and Loops\n"
   ]
  },
  {
   "cell_type": "markdown",
   "metadata": {},
   "source": [
    "##### Note for `Indentation（縮排）`\n",
    "\n",
    "Unlike some programming languages we know (such as C, Matlab, R), <br>\n",
    "python do not use `{}` to separate the code blocks, but use the `indentation` to express different code blocks."
   ]
  },
  {
   "cell_type": "markdown",
   "metadata": {},
   "source": [
    "### if ... elif ... else\n",
    "\n",
    "```python\n",
    "if a_condition:\n",
    "    do_a\n",
    "elif b_condition:\n",
    "    do_b\n",
    "elif c_condition:\n",
    "    do_c\n",
    "else:\n",
    "    do_others\n",
    "```\n",
    "- elif 和 else 不一定需要"
   ]
  },
  {
   "cell_type": "code",
   "execution_count": 1,
   "metadata": {},
   "outputs": [
    {
     "name": "stdout",
     "output_type": "stream",
     "text": [
      "a is 3, a > 1.\n"
     ]
    }
   ],
   "source": [
    "a = 3\n",
    "if a > 1:\n",
    "    print('a is %s, a > 1.' %a)\n",
    "elif a == 1:\n",
    "    print('a is %s, a = 1.' %a)\n",
    "else:\n",
    "    print('a is %s, a < 1.' %a)"
   ]
  },
  {
   "cell_type": "code",
   "execution_count": 2,
   "metadata": {},
   "outputs": [
    {
     "name": "stdout",
     "output_type": "stream",
     "text": [
      "a is 1, a = 1.\n"
     ]
    }
   ],
   "source": [
    "a = 1\n",
    "if a > 1:\n",
    "    print('a is %s, a > 1.' %a)\n",
    "elif a == 1:\n",
    "    print('a is %s, a = 1.' %a)\n",
    "else:\n",
    "    print('a is %s, a < 1.' %a)"
   ]
  },
  {
   "cell_type": "code",
   "execution_count": 3,
   "metadata": {},
   "outputs": [
    {
     "name": "stdout",
     "output_type": "stream",
     "text": [
      "a is -1, a < 1.\n"
     ]
    }
   ],
   "source": [
    "a = -1\n",
    "if a > 1:\n",
    "    print('a is %s, a > 1.' %a)\n",
    "elif a == 1:\n",
    "    print('a is %s, a = 1.' %a)\n",
    "else:\n",
    "    print('a is %s, a < 1.' %a)"
   ]
  },
  {
   "cell_type": "code",
   "execution_count": 4,
   "metadata": {},
   "outputs": [
    {
     "name": "stdout",
     "output_type": "stream",
     "text": [
      "a is -1, a < 1.\n"
     ]
    }
   ],
   "source": [
    "a = -1\n",
    "if a > 1:\n",
    "    print('a is %s, a > 1.' %a)\n",
    "elif a < 1:\n",
    "    print('a is %s, a < 1.' %a)"
   ]
  },
  {
   "cell_type": "code",
   "execution_count": 5,
   "metadata": {},
   "outputs": [
    {
     "name": "stdout",
     "output_type": "stream",
     "text": [
      "end\n"
     ]
    }
   ],
   "source": [
    "a = 1\n",
    "if a > 1:\n",
    "    print('a is %s, a > 1.' %a)\n",
    "elif a < 1:\n",
    "    print('a is %s, a < 1.' %a)\n",
    "print('end')"
   ]
  },
  {
   "cell_type": "markdown",
   "metadata": {},
   "source": [
    "### for\n",
    "\n",
    "```python\n",
    "for i in range(10):\n",
    "    do_something(i)\n",
    "```"
   ]
  },
  {
   "cell_type": "code",
   "execution_count": 6,
   "metadata": {},
   "outputs": [
    {
     "data": {
      "text/plain": [
       "range(0, 10)"
      ]
     },
     "execution_count": 6,
     "metadata": {},
     "output_type": "execute_result"
    }
   ],
   "source": [
    "range(10)"
   ]
  },
  {
   "cell_type": "code",
   "execution_count": 7,
   "metadata": {},
   "outputs": [
    {
     "data": {
      "text/plain": [
       "[0, 1, 2, 3, 4, 5, 6, 7, 8, 9]"
      ]
     },
     "execution_count": 7,
     "metadata": {},
     "output_type": "execute_result"
    }
   ],
   "source": [
    "list(range(10))"
   ]
  },
  {
   "cell_type": "code",
   "execution_count": 8,
   "metadata": {},
   "outputs": [
    {
     "name": "stdout",
     "output_type": "stream",
     "text": [
      "0\n",
      "1\n",
      "2\n",
      "3\n",
      "4\n",
      "5\n",
      "6\n",
      "7\n",
      "8\n",
      "9\n"
     ]
    }
   ],
   "source": [
    "for i in range(10):\n",
    "    print(i)"
   ]
  },
  {
   "cell_type": "code",
   "execution_count": 9,
   "metadata": {},
   "outputs": [
    {
     "name": "stdout",
     "output_type": "stream",
     "text": [
      "Lesson a\n",
      "Lesson b\n",
      "Lesson c\n"
     ]
    }
   ],
   "source": [
    "for a in ['a', 'b', 'c']:\n",
    "    print('Lesson %s' %a)"
   ]
  },
  {
   "cell_type": "markdown",
   "metadata": {},
   "source": [
    "### while\n",
    "\n",
    "```python\n",
    "while something_is_true:\n",
    "    do_what_i_want_to_do\n",
    "```"
   ]
  },
  {
   "cell_type": "code",
   "execution_count": 10,
   "metadata": {},
   "outputs": [
    {
     "name": "stdout",
     "output_type": "stream",
     "text": [
      "3\n",
      "4\n",
      "5\n",
      "6\n",
      "7\n",
      "8\n",
      "9\n"
     ]
    }
   ],
   "source": [
    "a = 3\n",
    "while a < 10:\n",
    "    print(a)\n",
    "    a += 1"
   ]
  },
  {
   "cell_type": "markdown",
   "metadata": {},
   "source": [
    "> special usage: `break`、`continue`\n",
    "\n",
    "- 遇到 break 時迴圈就會停止\n",
    "- 遇到 continue 時迴圈會直接跳過這一次"
   ]
  },
  {
   "cell_type": "code",
   "execution_count": 11,
   "metadata": {},
   "outputs": [
    {
     "name": "stdout",
     "output_type": "stream",
     "text": [
      "3\n",
      "4\n",
      "5\n",
      "6\n"
     ]
    }
   ],
   "source": [
    "a = 3\n",
    "while a < 10:\n",
    "    print(a)\n",
    "    a += 1\n",
    "    if a == 7:\n",
    "        break"
   ]
  },
  {
   "cell_type": "code",
   "execution_count": 12,
   "metadata": {},
   "outputs": [
    {
     "name": "stdout",
     "output_type": "stream",
     "text": [
      "4\n",
      "5\n",
      "6\n",
      "8\n",
      "9\n",
      "10\n"
     ]
    }
   ],
   "source": [
    "a = 3\n",
    "while a < 10:\n",
    "    a += 1\n",
    "    if a == 7:\n",
    "        continue\n",
    "    print(a)"
   ]
  },
  {
   "cell_type": "markdown",
   "metadata": {},
   "source": [
    "### try ... except\n",
    "\n",
    "```python\n",
    "try:\n",
    "    do something\n",
    "except:\n",
    "    print('something wrong')\n",
    "```\n",
    "> try except 是一種能夠幫助我們在避免城市停止運行下顯示其中的錯誤（可能是不影響後續運行的小錯）"
   ]
  },
  {
   "cell_type": "code",
   "execution_count": 13,
   "metadata": {},
   "outputs": [
    {
     "ename": "NameError",
     "evalue": "name 'b' is not defined",
     "output_type": "error",
     "traceback": [
      "\u001b[0;31m---------------------------------------------------------------------------\u001b[0m",
      "\u001b[0;31mNameError\u001b[0m                                 Traceback (most recent call last)",
      "\u001b[0;32m<ipython-input-13-7d503b4012c2>\u001b[0m in \u001b[0;36m<module>\u001b[0;34m()\u001b[0m\n\u001b[1;32m      1\u001b[0m \u001b[0ma\u001b[0m \u001b[0;34m=\u001b[0m \u001b[0;36m1\u001b[0m\u001b[0;34m\u001b[0m\u001b[0m\n\u001b[1;32m      2\u001b[0m \u001b[0;34m\u001b[0m\u001b[0m\n\u001b[0;32m----> 3\u001b[0;31m \u001b[0mprint\u001b[0m\u001b[0;34m(\u001b[0m\u001b[0;34m'var = %d'\u001b[0m \u001b[0;34m%\u001b[0m\u001b[0mb\u001b[0m\u001b[0;34m)\u001b[0m\u001b[0;34m\u001b[0m\u001b[0m\n\u001b[0m\u001b[1;32m      4\u001b[0m \u001b[0;34m\u001b[0m\u001b[0m\n\u001b[1;32m      5\u001b[0m \u001b[0mprint\u001b[0m\u001b[0;34m(\u001b[0m\u001b[0;34m'end'\u001b[0m\u001b[0;34m)\u001b[0m\u001b[0;34m\u001b[0m\u001b[0m\n",
      "\u001b[0;31mNameError\u001b[0m: name 'b' is not defined"
     ]
    }
   ],
   "source": [
    "a = 1\n",
    "\n",
    "print('var = %d' %b) \n",
    "\n",
    "print('end')"
   ]
  },
  {
   "cell_type": "code",
   "execution_count": 14,
   "metadata": {},
   "outputs": [
    {
     "name": "stdout",
     "output_type": "stream",
     "text": [
      "The variable does not exist.\n",
      "end\n"
     ]
    }
   ],
   "source": [
    "a = 1\n",
    "\n",
    "try:\n",
    "    print('var = %d' %b) \n",
    "except:\n",
    "    print('The variable does not exist.')\n",
    "print('end')"
   ]
  },
  {
   "cell_type": "markdown",
   "metadata": {},
   "source": [
    "[_]( http://localhost:8888/notebooks/Courses/NTHU/0_Overview.ipynb) <br>\n",
    "[_]( http://localhost:8888/notebooks/Courses/NTHU/1_4_Functions.ipynb)"
   ]
  }
 ],
 "metadata": {
  "kernelspec": {
   "display_name": "Python 3",
   "language": "python",
   "name": "python3"
  },
  "language_info": {
   "codemirror_mode": {
    "name": "ipython",
    "version": 3
   },
   "file_extension": ".py",
   "mimetype": "text/x-python",
   "name": "python",
   "nbconvert_exporter": "python",
   "pygments_lexer": "ipython3",
   "version": "3.6.5"
  }
 },
 "nbformat": 4,
 "nbformat_minor": 2
}
