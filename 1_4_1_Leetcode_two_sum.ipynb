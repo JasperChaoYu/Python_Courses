{
 "cells": [
  {
   "cell_type": "markdown",
   "metadata": {},
   "source": [
    "___\n",
    "<a href = 'https://www.tradingvalley.com/en/'> \n",
    "    <img src = 'fig/TV_logo.jpg' width = '50%'/>\n",
    "    </a>\n",
    "<h6 style = \"text-align:right\"> Python and Quantitative Trading @ NTHU 107 </h6>\n",
    "\n",
    "___"
   ]
  },
  {
   "cell_type": "markdown",
   "metadata": {},
   "source": [
    "<h1 style = \"text-align:center\"> Python Introduction </h1>"
   ]
  },
  {
   "cell_type": "markdown",
   "metadata": {},
   "source": [
    "## 1-4-1 Practice\n",
    "\n",
    "- leetcode - two sums https://leetcode.com/problems/two-sum/description/\n",
    "\n",
    "<img src = 'fig/leetcode_two_sum.png' width = '85%'/>\n",
    "\n",
    "```python\n",
    "class Solution:\n",
    "    def twoSum(self, nums, target):\n",
    "        \"\"\"\n",
    "        :type nums: List[int]\n",
    "        :type target: int\n",
    "        :rtype: List[int]\n",
    "        \"\"\"\n",
    "```"
   ]
  },
  {
   "cell_type": "markdown",
   "metadata": {},
   "source": [
    "### 1. two for loops"
   ]
  },
  {
   "cell_type": "code",
   "execution_count": 1,
   "metadata": {},
   "outputs": [
    {
     "data": {
      "text/plain": [
       "[0, 1]"
      ]
     },
     "execution_count": 1,
     "metadata": {},
     "output_type": "execute_result"
    }
   ],
   "source": [
    "def two_sum_1(nums, target):\n",
    "    for i in range(len(nums)):\n",
    "        for j in range(len(nums)):\n",
    "            i_num = nums[i]\n",
    "            j_num = nums[j]\n",
    "            if i_num + j_num == target:\n",
    "                return [i, j]\n",
    "            \n",
    "two_sum_1(nums = [2, 7, 11, 15], target = 9)"
   ]
  },
  {
   "cell_type": "markdown",
   "metadata": {},
   "source": [
    "<img src = 'fig/leetcode_two_sum_wrong_answer.png' width = '100%'/>"
   ]
  },
  {
   "cell_type": "markdown",
   "metadata": {},
   "source": [
    "#### Recall for out \"Before we start......\"\n",
    "\n",
    "- toolbox for solving problems\n",
    "- skill to analysis and optimizing efficiency（time and space）of algorithms\n",
    "- there are lots of methods and processes to solve a problem when programming\n",
    "- to see and learn the code from others\n",
    "- required to consider more situations： `special, edge, empty, normal`\n",
    "- think before start： know the requirements, (simply draw the programming steps)"
   ]
  },
  {
   "cell_type": "code",
   "execution_count": 2,
   "metadata": {},
   "outputs": [
    {
     "data": {
      "text/plain": [
       "[0, 1]"
      ]
     },
     "execution_count": 2,
     "metadata": {},
     "output_type": "execute_result"
    }
   ],
   "source": [
    "def two_sum_2(nums, target):\n",
    "    for i in range(len(nums)):\n",
    "        for j in range(len(nums)):\n",
    "            i_num = nums[i]\n",
    "            j_num = nums[j]\n",
    "            if i_num + j_num == target and not i == j:\n",
    "                return [i, j]\n",
    "            \n",
    "two_sum_2(nums = [2, 7, 11, 15], target = 9)"
   ]
  },
  {
   "cell_type": "code",
   "execution_count": 3,
   "metadata": {},
   "outputs": [
    {
     "data": {
      "text/plain": [
       "[1, 2]"
      ]
     },
     "execution_count": 3,
     "metadata": {},
     "output_type": "execute_result"
    }
   ],
   "source": [
    "two_sum_2(nums = [3, 2, 4], target = 6)"
   ]
  },
  {
   "cell_type": "markdown",
   "metadata": {},
   "source": [
    "<img src = 'fig/leetcode_two_sum_time_exceed.png' width = '100%'/>"
   ]
  },
  {
   "cell_type": "markdown",
   "metadata": {},
   "source": [
    "### 2. one for Loop （tools: if, in）"
   ]
  },
  {
   "cell_type": "code",
   "execution_count": 4,
   "metadata": {},
   "outputs": [
    {
     "data": {
      "text/plain": [
       "[0, 1]"
      ]
     },
     "execution_count": 4,
     "metadata": {},
     "output_type": "execute_result"
    }
   ],
   "source": [
    "def two_sum_3(nums, target):\n",
    "    for i in range(len(nums)):\n",
    "        back_nums = nums[i+1:]\n",
    "        i_num = nums[i]\n",
    "        j_num = target - i_num\n",
    "        if j_num in back_nums:\n",
    "            j = back_nums.index(j_num) + i + 1\n",
    "            return [i, j]\n",
    "            \n",
    "two_sum_3(nums = [2, 7, 11, 15], target = 9)"
   ]
  },
  {
   "cell_type": "markdown",
   "metadata": {},
   "source": [
    "<img src = 'fig/leetcode_two_sum_one_for_accept.png' width = '100%'/>"
   ]
  },
  {
   "cell_type": "code",
   "execution_count": null,
   "metadata": {},
   "outputs": [],
   "source": []
  },
  {
   "cell_type": "markdown",
   "metadata": {},
   "source": [
    "<img src = 'fig/leetcode_two_sum_timer.png' width = '100%'/>"
   ]
  },
  {
   "cell_type": "markdown",
   "metadata": {},
   "source": [
    "[_]( http://localhost:8888/notebooks/Courses/NTHU/0_Overview.ipynb) <br>\n",
    "[_]( http://localhost:8888/notebooks/Courses/NTHU/1_5_Methods.ipynb)"
   ]
  }
 ],
 "metadata": {
  "kernelspec": {
   "display_name": "Python 3",
   "language": "python",
   "name": "python3"
  },
  "language_info": {
   "codemirror_mode": {
    "name": "ipython",
    "version": 3
   },
   "file_extension": ".py",
   "mimetype": "text/x-python",
   "name": "python",
   "nbconvert_exporter": "python",
   "pygments_lexer": "ipython3",
   "version": "3.6.5"
  }
 },
 "nbformat": 4,
 "nbformat_minor": 2
}
